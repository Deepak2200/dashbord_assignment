{
 "cells": [
  {
   "cell_type": "markdown",
   "id": "ed7d8542-52e6-41d5-829f-f7faeccf2ced",
   "metadata": {},
   "source": [
    "### 1. What is the relationship between def statements and lambda expressions ?"
   ]
  },
  {
   "cell_type": "markdown",
   "id": "df67df9e-9751-432a-99e4-0808ba9b2fba",
   "metadata": {},
   "source": [
    "Ans: def statement is used to create a normal function. where as lamba expressions are used to create Anonymous functions. which can be assigned to a variable and can be called using the variable later in function.\n",
    "\n",
    "Lambda's body is a single expression and not a block of statements like def statement. The lambda expression's body is similar to what we'd put in a def body's return statement. We simply type the result as an expression instead of explicitly returning it. Because it is limited to an expression, a lambda is less general than a def statement."
   ]
  },
  {
   "cell_type": "markdown",
   "id": "fab30734-1eba-49a9-b7d6-b2861c49f660",
   "metadata": {},
   "source": [
    "### 2. What is the benefit of lambda?"
   ]
  },
  {
   "cell_type": "markdown",
   "id": "390f8736-15d8-45da-a11b-96ed82bd8aa1",
   "metadata": {},
   "source": [
    "Ans: The following are some of the benefits of lambda expressions:\n",
    "\n",
    "Can be used to create Nameless/Anonymous functions inside some complex functions if we are planning to use it only once.\n",
    "Moderate to small functions can be created in a single line\n",
    "Fuctions created using lambda expressions can be assigned to a variable and can be used by simply calling the variable"
   ]
  },
  {
   "cell_type": "markdown",
   "id": "eab050ea-c722-4766-838e-9b2b128782f5",
   "metadata": {},
   "source": [
    "### 3. Compare and contrast map, filter, and reduce."
   ]
  },
  {
   "cell_type": "markdown",
   "id": "f58478e3-8770-4b58-9453-92166545b876",
   "metadata": {},
   "source": [
    "Ans: The differences between map, filter and reduce are:\n",
    "\n",
    "map(): The map() function is a type of higher-order. This function takes another function as a parameter\n",
    "along with a sequence of iterables and returns an output after applying the function to each iterable present in the sequence. 2. filter(): The filter() function is used to create an output list consisting of values for which the function returns true. 3. reduce(): The reduce() function, as the name describes, applies a given function to the iterables and returns a single value"
   ]
  },
  {
   "cell_type": "code",
   "execution_count": 1,
   "id": "8727dcce-caa4-4480-a467-6418e6f2e35b",
   "metadata": {},
   "outputs": [
    {
     "name": "stdout",
     "output_type": "stream",
     "text": [
      "Map -> [2, 4, 6, 8]\n",
      "Filter -> [1, 3]\n",
      "Reduce -> 21\n"
     ]
    }
   ],
   "source": [
    "from functools import reduce\n",
    "# map function\n",
    "print('Map ->',list(map(lambda x:x+x, [1,2,3,4])))\n",
    "# fitler function\n",
    "print('Filter ->',list(filter(lambda x:x%2 !=0, [1,2,3,4])))\n",
    "# reduce function\n",
    "print('Reduce ->',reduce(lambda x,y:x+y, [1,2,3,4,5,6]))"
   ]
  },
  {
   "cell_type": "markdown",
   "id": "26201314-24eb-4176-89ec-54d4d00cab3c",
   "metadata": {},
   "source": [
    "### 4. What are function annotations, and how are they used?"
   ]
  },
  {
   "cell_type": "markdown",
   "id": "35b7c6b1-d007-4fe9-bbce-610e6e861f91",
   "metadata": {},
   "source": [
    "Ans: Function annotations provide a way of associating various parts of a function with arbitrary pythoncexpressions at compile time.\n",
    "Annotations of simple parameters def func(x: expression, y: expression = 20):\n",
    "Whereas the annotations for excess parameters are as − def func (**args: expression, **kwargs: expression):"
   ]
  },
  {
   "cell_type": "markdown",
   "id": "bd65451d-d37f-42fa-ab68-55afc431a54b",
   "metadata": {},
   "source": [
    "### 5. What are recursive functions, and how are they used?"
   ]
  },
  {
   "cell_type": "markdown",
   "id": "663c69be-8228-4443-9183-21d401251e2b",
   "metadata": {},
   "source": [
    "Ans: A recursive function is a function that calls itself during its execution. The process may repeat several times, outputting the result and the end of each iteration."
   ]
  },
  {
   "cell_type": "markdown",
   "id": "ec547b94-2f00-4214-9c59-cc85b69d6cae",
   "metadata": {},
   "source": [
    "### 6. What are some general design guidelines for coding functions?"
   ]
  },
  {
   "cell_type": "markdown",
   "id": "0da796f6-1d02-47b0-9f03-159f0ac7c09c",
   "metadata": {},
   "source": [
    "Ans: Some of the general design guidelines for coding functions are:\n",
    "\n",
    "Always use a docstring to explain the functionality of the function\n",
    "\n",
    "avoid using or limited use of global variables\n",
    "\n",
    "Proper Identation to increase the code readability\n",
    "\n",
    "try to follow a naming convention for function names (pascalCase or camelCase) and stick with the same convention throughout the application.\n",
    "\n",
    "Avoid using digits while choosing a variable name\n",
    "\n",
    "try to use a name for the function which conveys the purpose of the function\n",
    "\n",
    "Local variables should be named using camelCase format (ex: localVariable) whereas Global variables names should be using PascalCase (ex:GlobalVariable).\n",
    "\n",
    "Constant should be represented in allcaps (ex:CONSTANT)"
   ]
  },
  {
   "cell_type": "markdown",
   "id": "37ed0dc7-272d-4f8a-ae93-206527496325",
   "metadata": {},
   "source": [
    "### 7. Name three or more ways that functions can communicate results to a caller."
   ]
  },
  {
   "cell_type": "markdown",
   "id": "7ee53abc-9491-492e-a165-9811d4c4dbe3",
   "metadata": {},
   "source": [
    "Ans: Some of the ways in which a function can communicate with the calling function is:\n",
    "\n",
    "print\n",
    "\n",
    "return\n",
    "\n",
    "yield"
   ]
  },
  {
   "cell_type": "code",
   "execution_count": null,
   "id": "5a265035-6cd3-4d78-918f-ac611d0e3c47",
   "metadata": {},
   "outputs": [],
   "source": []
  }
 ],
 "metadata": {
  "kernelspec": {
   "display_name": "Python 3 (ipykernel)",
   "language": "python",
   "name": "python3"
  },
  "language_info": {
   "codemirror_mode": {
    "name": "ipython",
    "version": 3
   },
   "file_extension": ".py",
   "mimetype": "text/x-python",
   "name": "python",
   "nbconvert_exporter": "python",
   "pygments_lexer": "ipython3",
   "version": "3.10.6"
  }
 },
 "nbformat": 4,
 "nbformat_minor": 5
}
