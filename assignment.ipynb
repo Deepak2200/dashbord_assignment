{
 "cells": [
  {
   "cell_type": "code",
   "execution_count": null,
   "id": "245c9ff6",
   "metadata": {},
   "outputs": [],
   "source": [
    "# 1. In the below elements which of them are values or an expression? eg:- values can be integer or string and expressions will be mathematical operators.\n",
    "* \n",
    "'hello'\n",
    "-87.8\n",
    "- \n",
    "/ \n",
    "+\n"
   ]
  },
  {
   "cell_type": "code",
   "execution_count": null,
   "id": "91cdb944",
   "metadata": {},
   "outputs": [],
   "source": [
    "#Solution\n",
    "* :-it is a mathematical express which is used to multiple \n",
    "'hello':- it is a string on python expression\n",
    "-87.8 :- it show negative floating number \n",
    "- :- it is negative mathematical expression\n",
    "/ :-it also the mathemetical expression which used to devide\n",
    "+:- it is addition expression in python  and concadination for string"
   ]
  },
  {
   "cell_type": "code",
   "execution_count": 2,
   "id": "18124286",
   "metadata": {},
   "outputs": [],
   "source": [
    "#2. What is the difference between string and variable?"
   ]
  },
  {
   "cell_type": "code",
   "execution_count": null,
   "id": "f8ad489d",
   "metadata": {},
   "outputs": [],
   "source": [
    "#solution:-\n",
    "#string:- string always represent in single or double quotation marks.it may be any thing \n",
    "exp =\"Deep__ jahhjd_ajsjhsj\"and it contain data.\n",
    "we can asign a multiline string to a variable by using three quotes\n",
    "\n",
    "#variable:- Variables are symbols that you can use to store data in a program.\n",
    "variable not contain any quotation mark\n",
    "variable are not contain any extra speace.\n",
    "variable contain set of data(list,str,int.input()..ect)\n"
   ]
  },
  {
   "cell_type": "code",
   "execution_count": null,
   "id": "1da43f36",
   "metadata": {},
   "outputs": [],
   "source": [
    "#3. Describe three different data types.\n",
    "Numeric - int, float, complex (65,65.5,5i+6)\n",
    "String - str(\"Deepak\")\n",
    "Boolean - bool.(True/False)"
   ]
  },
  {
   "cell_type": "code",
   "execution_count": null,
   "id": "db3e55b5",
   "metadata": {},
   "outputs": [],
   "source": [
    "#4.. What is an expression made up of? What do all expressions do?"
   ]
  },
  {
   "cell_type": "code",
   "execution_count": null,
   "id": "2e098cb6",
   "metadata": {},
   "outputs": [],
   "source": [
    "#ANS:-\n",
    "An expression is a combination of values, variables, operators, and calls to functions.\n",
    "If you ask Python to print an expression, the interpreter evaluates the expression and displays the result.\n",
    "\n",
    "expressions:-\n",
    "string , integer literals, floating point ,arithamtic, imaginary literals,logical expressions.etc\n"
   ]
  },
  {
   "cell_type": "code",
   "execution_count": null,
   "id": "ab94467c",
   "metadata": {},
   "outputs": [],
   "source": [
    "#5. This assignment statements, like spam = 10. What is the difference between an expression and a statement?\n",
    "A statement in Python is used for creating variables or for displaying values. \n",
    "The expression in Python produces some value or result after being interpreted by the Python interpreter.\n"
   ]
  },
  {
   "cell_type": "code",
   "execution_count": null,
   "id": "76631e10",
   "metadata": {},
   "outputs": [],
   "source": [
    "#6.. After running the following code, what does the variable bacon contain?\n",
    "bacon = 22\n",
    "bacon + 1\n",
    "#bacon cantain 22 "
   ]
  },
  {
   "cell_type": "code",
   "execution_count": 1,
   "id": "84fb9bf6",
   "metadata": {},
   "outputs": [
    {
     "data": {
      "text/plain": [
       "23"
      ]
     },
     "execution_count": 1,
     "metadata": {},
     "output_type": "execute_result"
    }
   ],
   "source": [
    "bacon = 22\n",
    "bacon + 1"
   ]
  },
  {
   "cell_type": "code",
   "execution_count": 2,
   "id": "83d3963f",
   "metadata": {},
   "outputs": [
    {
     "data": {
      "text/plain": [
       "22"
      ]
     },
     "execution_count": 2,
     "metadata": {},
     "output_type": "execute_result"
    }
   ],
   "source": [
    "bacon"
   ]
  },
  {
   "cell_type": "code",
   "execution_count": 3,
   "id": "53fa56f8",
   "metadata": {},
   "outputs": [
    {
     "data": {
      "text/plain": [
       "'spamspamspam'"
      ]
     },
     "execution_count": 3,
     "metadata": {},
     "output_type": "execute_result"
    }
   ],
   "source": [
    "#7. What should the values of the following two terms be?\n",
    "'spam' + 'spamspam'\n",
    "'spam' * 3\n",
    "\n",
    "#1. first expration ism string there for they concinate but second are use to multiple the expression\n",
    "#if you want same outcome than we need to \n",
    "#\"spam\"**3\n",
    "\n",
    "#if we take \"sapm\"*3 we got error bcoz string ids not multiple byr integer"
   ]
  },
  {
   "cell_type": "code",
   "execution_count": null,
   "id": "b3e98adb",
   "metadata": {},
   "outputs": [],
   "source": [
    "#8.Why is eggs a valid variable name while 100 is invalid?\n",
    "-: Because variable names cannot begin with a number"
   ]
  },
  {
   "cell_type": "code",
   "execution_count": null,
   "id": "7dd3f78f",
   "metadata": {},
   "outputs": [],
   "source": [
    "#9. What three functions can be used to get the integer, floating-point number, or string version of a value?\n",
    "integer we write int()\n",
    "floating we write float()\n",
    "string we write str()"
   ]
  },
  {
   "cell_type": "code",
   "execution_count": 12,
   "id": "3c420c90",
   "metadata": {},
   "outputs": [
    {
     "name": "stdout",
     "output_type": "stream",
     "text": [
      "I have eaten 99 burritos.\n"
     ]
    }
   ],
   "source": [
    "#10. Why does this expression cause an error? How can you fix it?\n",
    "'I have eaten ' + 99 + ' burritos.'\n",
    "\n",
    "#solution\n",
    "this epression has given error because of we concadinate integer and strings together\n",
    "we concadinate only same data type\n",
    "# for fixing we need to do\n",
    "i=99\n",
    "print(f'I have eaten {i} burritos.')"
   ]
  },
  {
   "cell_type": "code",
   "execution_count": 9,
   "id": "c68ad956",
   "metadata": {},
   "outputs": [
    {
     "name": "stdout",
     "output_type": "stream",
     "text": [
      "I have eaten 99 burritos.\n"
     ]
    }
   ],
   "source": [
    "i=99\n",
    "print(f'I have eaten {i} burritos.')"
   ]
  },
  {
   "cell_type": "code",
   "execution_count": null,
   "id": "c84590b6",
   "metadata": {},
   "outputs": [],
   "source": []
  }
 ],
 "metadata": {
  "kernelspec": {
   "display_name": "Python 3 (ipykernel)",
   "language": "python",
   "name": "python3"
  },
  "language_info": {
   "codemirror_mode": {
    "name": "ipython",
    "version": 3
   },
   "file_extension": ".py",
   "mimetype": "text/x-python",
   "name": "python",
   "nbconvert_exporter": "python",
   "pygments_lexer": "ipython3",
   "version": "3.9.13"
  }
 },
 "nbformat": 4,
 "nbformat_minor": 5
}
