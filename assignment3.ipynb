{
 "cells": [
  {
   "cell_type": "code",
   "execution_count": null,
   "id": "6a516388-e29f-41b5-b40d-72af8c6c7b2f",
   "metadata": {},
   "outputs": [],
   "source": [
    "#1. Why are functions advantageous to have in your programs?]\n",
    "ANS:-\n",
    "we can avoid rewriting the same logic or code again and again in a program. \n",
    "In a single Program, we can call Python functions anywhere and also call multiple times.\n",
    "if we assign any value before we already assign that take our recenty values which we assign.\n",
    "This makes programs shorter, easier to read, and easier to update."
   ]
  },
  {
   "cell_type": "code",
   "execution_count": null,
   "id": "f618268e-fde3-4463-872b-b5c40f5955a7",
   "metadata": {},
   "outputs": [],
   "source": [
    "#2. When does the code in a function run: when it's specified or when it's called?\n",
    " Code in the function runs when the function is called"
   ]
  },
  {
   "cell_type": "code",
   "execution_count": null,
   "id": "477d2c4c-6b17-4f72-8cd0-fed856f45b2f",
   "metadata": {},
   "outputs": [],
   "source": [
    "#3. What statement creates a function?\n",
    "Ans. The def statement  creates a function.\n"
   ]
  },
  {
   "cell_type": "code",
   "execution_count": null,
   "id": "5f71fa0e-eeee-4a09-9e8f-0ece4b75af39",
   "metadata": {},
   "outputs": [],
   "source": [
    "#eg\n",
    "def func():\n",
    "    pass"
   ]
  },
  {
   "cell_type": "code",
   "execution_count": null,
   "id": "530a648a-4d66-4238-9f07-8843c0fbf9e4",
   "metadata": {},
   "outputs": [],
   "source": [
    "#4. What is the difference between a function and a function call?"
   ]
  },
  {
   "cell_type": "code",
   "execution_count": 2,
   "id": "0cec7ce7-48d8-4223-860d-a78ee0d9d27d",
   "metadata": {},
   "outputs": [],
   "source": [
    "#def of func\n",
    "def my_func(): \n",
    "    pass \n"
   ]
  },
  {
   "cell_type": "code",
   "execution_count": 3,
   "id": "4a305e96-d10e-4f2b-9493-627d22433dda",
   "metadata": {},
   "outputs": [],
   "source": [
    "my_func() #calling of function"
   ]
  },
  {
   "cell_type": "code",
   "execution_count": null,
   "id": "6685ef02-b65f-4f38-959c-f08182eb7a9b",
   "metadata": {},
   "outputs": [],
   "source": [
    "#5. How many global scopes are there in a Python program? How many local scopes?\n",
    "Ans .There's only one global Python scope per program execution. This scope remains in existence until the program terminates , \n",
    "and a local scope is created whenever a function is called."
   ]
  },
  {
   "cell_type": "code",
   "execution_count": null,
   "id": "f9b22a14-e6e0-401e-8ec7-dff68442e0b2",
   "metadata": {},
   "outputs": [],
   "source": [
    "#6. What happens to variables in a local scope when the function call returns?\n",
    "Ans. When a function returns, the local scope is destroyed(life time expired)."
   ]
  },
  {
   "cell_type": "code",
   "execution_count": null,
   "id": "99ecaaaa-9aec-4959-b852-e0e33d904f32",
   "metadata": {},
   "outputs": [],
   "source": [
    "#7. What is the concept of a return value? Is it possible to have a return value in an expression?\n",
    "Ans. A return value is the value that a function call evaluates to. Like any value, a return value can be used as part of an expression."
   ]
  },
  {
   "cell_type": "code",
   "execution_count": null,
   "id": "fb0ddda3-cfd1-4d8f-a820-eb30ca8b7881",
   "metadata": {},
   "outputs": [],
   "source": [
    "#8. If a function does not have a return statement, what is the return value of a call to that function?\n",
    "Ans. If the funtion does not have a return statement it will not return anything."
   ]
  },
  {
   "cell_type": "code",
   "execution_count": null,
   "id": "cee4e69b-e930-4bfe-b52f-7f80727f4860",
   "metadata": {},
   "outputs": [],
   "source": [
    "#9. How do you make a function variable refer to the global variable?\n",
    "Ans. To make function variable as a global variable you can use the global keyword to declare which variables are global"
   ]
  },
  {
   "cell_type": "code",
   "execution_count": 7,
   "id": "5536dc3b-eeda-4224-ba6d-3b69a401d9c4",
   "metadata": {},
   "outputs": [],
   "source": [
    "#10. What is the data type of None?\n",
    "#Ans. None is a data type of its own (NoneType)\n"
   ]
  },
  {
   "cell_type": "code",
   "execution_count": null,
   "id": "aa9e1d48-f70c-4bc0-854b-424157f7a292",
   "metadata": {},
   "outputs": [],
   "source": [
    "#11. What does the sentence import areallyourpetsnamederic do?\n",
    "Ans .That import statement imports a module named areallyourpetsnamederic. (But a module of this name doesnt exists in Python)"
   ]
  },
  {
   "cell_type": "code",
   "execution_count": null,
   "id": "8b5ed074-d365-4384-8668-86cbcdeb848d",
   "metadata": {},
   "outputs": [],
   "source": [
    "#12. If you had a bacon() feature in a spam module, what would you call it after importing spam?\n",
    "Ans .import spam\n",
    "     spam.bacon()"
   ]
  },
  {
   "cell_type": "code",
   "execution_count": null,
   "id": "07690e30-0a47-454a-a807-7b8d1895fa4b",
   "metadata": {},
   "outputs": [],
   "source": [
    "#13. What can you do to save a programme from crashing if it encounters an error?\n",
    "Ans. We can use try except clause to save a program from crashing."
   ]
  },
  {
   "cell_type": "code",
   "execution_count": null,
   "id": "c289a2c4-e179-4e88-bf8c-a2fe6f3d2f12",
   "metadata": {},
   "outputs": [],
   "source": [
    "#14. What is the purpose of the try clause? What is the purpose of the except clause?\n",
    "Ans. Try and Except clause is used to handle the errors within our code .\n",
    "The try block is used to check some code for errors i.e the code inside the try block will execute when there is no error in the program.\n",
    "Whereas the code inside the except block will execute whenever the program encounters some error in the try block."
   ]
  },
  {
   "cell_type": "code",
   "execution_count": null,
   "id": "7e053b05-1735-47ba-9344-c502f2ebc6f6",
   "metadata": {},
   "outputs": [],
   "source": [
    "#Eg.\n",
    "try:\n",
    "    {\"\"\" wrriten your \n",
    "    code and logic \"\"\"}\n",
    "\n",
    "except:\n",
    "      {\"\"\"Executed if error in the\n",
    "      try block\"\"\"}"
   ]
  }
 ],
 "metadata": {
  "kernelspec": {
   "display_name": "Python 3 (ipykernel)",
   "language": "python",
   "name": "python3"
  },
  "language_info": {
   "codemirror_mode": {
    "name": "ipython",
    "version": 3
   },
   "file_extension": ".py",
   "mimetype": "text/x-python",
   "name": "python",
   "nbconvert_exporter": "python",
   "pygments_lexer": "ipython3",
   "version": "3.10.6"
  }
 },
 "nbformat": 4,
 "nbformat_minor": 5
}
