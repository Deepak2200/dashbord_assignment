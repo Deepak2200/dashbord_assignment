{
 "cells": [
  {
   "cell_type": "code",
   "execution_count": null,
   "id": "941450be-8209-416e-af0b-55f41e9a31d8",
   "metadata": {},
   "outputs": [],
   "source": [
    "#1. What are escape characters, and how do you use them?\n",
    "\"\"\"In Python strings, the backslash \"\" is a special character, also called the \"escape\" character.\n",
    "It is used in representing certain whitespace characters: \n",
    "\"\\t\" is a tab, \"\\n\" is a newline, and \"\\r\" is a carriage return \"\"\""
   ]
  },
  {
   "cell_type": "code",
   "execution_count": 4,
   "id": "b7237686-c805-4426-ace9-2b4950c0be7a",
   "metadata": {},
   "outputs": [
    {
     "name": "stdout",
     "output_type": "stream",
     "text": [
      "my name is xyz\n"
     ]
    }
   ],
   "source": [
    "print(\"my \\\n",
    "name \\\n",
    "is \\\n",
    "xyz\")"
   ]
  },
  {
   "cell_type": "code",
   "execution_count": null,
   "id": "17f29646-4bf9-4cbf-883a-058ad4d8bcd0",
   "metadata": {},
   "outputs": [],
   "source": [
    "#2. What do the escape characters n and t stand for?\n",
    "\"\\t\" is a tab, \"\\n\" is a newline"
   ]
  },
  {
   "cell_type": "code",
   "execution_count": 5,
   "id": "182ab084-71cb-458f-a927-3ce3cf77fd03",
   "metadata": {},
   "outputs": [
    {
     "name": "stdout",
     "output_type": "stream",
     "text": [
      "its a back slash \\ in a line\n"
     ]
    }
   ],
   "source": [
    "#3. What is the way to include backslash characters in a string?\n",
    "print('its a back slash \\ in a line')"
   ]
  },
  {
   "cell_type": "code",
   "execution_count": null,
   "id": "17827f18-0015-489f-86d2-be2a9c22e757",
   "metadata": {},
   "outputs": [],
   "source": [
    "#4. The string \"Howl's Moving Castle\" is a correct value. Why isn't the single quote character in the word Howl's not escaped a problem?\n",
    "\"\"\"The single quote in Howl's is fine because you've used double quotes to mark the beginning and end of the string.\n",
    "like wise we can use double quotes in with single quotes\"\"\""
   ]
  },
  {
   "cell_type": "code",
   "execution_count": 6,
   "id": "38a5dd2d-6def-42b5-8967-e0e7d8b4198e",
   "metadata": {},
   "outputs": [
    {
     "name": "stdout",
     "output_type": "stream",
     "text": [
      "HowI's Moving Castle\n"
     ]
    }
   ],
   "source": [
    "print(\"HowI's Moving Castle\")"
   ]
  },
  {
   "cell_type": "code",
   "execution_count": 7,
   "id": "3ee1878e-8b10-43dc-a11e-c962f10ad4f7",
   "metadata": {},
   "outputs": [
    {
     "name": "stdout",
     "output_type": "stream",
     "text": [
      "Its a \"Nice\" Day\n"
     ]
    }
   ],
   "source": [
    "# like wise we can use double quote in side single quote\n",
    "print('Its a \"Nice\" Day')"
   ]
  },
  {
   "cell_type": "code",
   "execution_count": 8,
   "id": "e9e8ba97-0b0d-426b-a1af-665340485a19",
   "metadata": {},
   "outputs": [
    {
     "name": "stdout",
     "output_type": "stream",
     "text": [
      "printing something in new line\n",
      "newline\n"
     ]
    }
   ],
   "source": [
    "#5. How do you write a string of newlines if you don't want to use the n character?\n",
    "print(\"printing something in new line\",end = '\\n')\n",
    "print(\"newline\")"
   ]
  },
  {
   "cell_type": "code",
   "execution_count": 9,
   "id": "85ec4df5-cec0-4df9-9574-f168eedd4d63",
   "metadata": {},
   "outputs": [
    {
     "data": {
      "text/plain": [
       "'e'"
      ]
     },
     "execution_count": 9,
     "metadata": {},
     "output_type": "execute_result"
    }
   ],
   "source": [
    "#6. What are the values of the given expressions?\n",
    "'Hello, world!'[1]"
   ]
  },
  {
   "cell_type": "code",
   "execution_count": 10,
   "id": "68836dfa-8f4c-4e72-9989-6d4a5e8fb462",
   "metadata": {},
   "outputs": [
    {
     "data": {
      "text/plain": [
       "'Hello'"
      ]
     },
     "execution_count": 10,
     "metadata": {},
     "output_type": "execute_result"
    }
   ],
   "source": [
    "'Hello, world!'[0:5]"
   ]
  },
  {
   "cell_type": "code",
   "execution_count": 11,
   "id": "50a02807-b7e0-4805-9daf-502d02837843",
   "metadata": {},
   "outputs": [
    {
     "data": {
      "text/plain": [
       "'Hello'"
      ]
     },
     "execution_count": 11,
     "metadata": {},
     "output_type": "execute_result"
    }
   ],
   "source": [
    "'Hello, world!'[:5]"
   ]
  },
  {
   "cell_type": "code",
   "execution_count": 12,
   "id": "b3a336c2-5467-4bad-b9f4-63f586dd11dc",
   "metadata": {},
   "outputs": [
    {
     "data": {
      "text/plain": [
       "'lo, world!'"
      ]
     },
     "execution_count": 12,
     "metadata": {},
     "output_type": "execute_result"
    }
   ],
   "source": [
    "'Hello, world!'[3:]"
   ]
  },
  {
   "cell_type": "code",
   "execution_count": 13,
   "id": "60c48b88-f3ba-4d2c-b87b-06c55f26b845",
   "metadata": {},
   "outputs": [
    {
     "data": {
      "text/plain": [
       "'HELLO'"
      ]
     },
     "execution_count": 13,
     "metadata": {},
     "output_type": "execute_result"
    }
   ],
   "source": [
    "#7. What are the values of the following expressions?\n",
    "'Hello'.upper()"
   ]
  },
  {
   "cell_type": "code",
   "execution_count": 14,
   "id": "e7a58e78-2bd4-4777-abb7-a78ab6880929",
   "metadata": {},
   "outputs": [
    {
     "data": {
      "text/plain": [
       "True"
      ]
     },
     "execution_count": 14,
     "metadata": {},
     "output_type": "execute_result"
    }
   ],
   "source": [
    "'Hello'.upper().isupper()"
   ]
  },
  {
   "cell_type": "code",
   "execution_count": 15,
   "id": "cee0fec8-764b-48d1-8126-fa5782b7236b",
   "metadata": {},
   "outputs": [
    {
     "data": {
      "text/plain": [
       "'hello'"
      ]
     },
     "execution_count": 15,
     "metadata": {},
     "output_type": "execute_result"
    }
   ],
   "source": [
    "'Hello'.upper().lower()"
   ]
  },
  {
   "cell_type": "code",
   "execution_count": 16,
   "id": "d69f4721-ca09-41f0-a07b-331f3a3eb4e8",
   "metadata": {},
   "outputs": [
    {
     "data": {
      "text/plain": [
       "['Remember,', 'remember,', 'the', 'fifth', 'of', 'July.']"
      ]
     },
     "execution_count": 16,
     "metadata": {},
     "output_type": "execute_result"
    }
   ],
   "source": [
    "#8. What are the values of the following expressions?\n",
    "'Remember, remember, the fifth of July.'.split()"
   ]
  },
  {
   "cell_type": "code",
   "execution_count": 17,
   "id": "ab582115-139b-4b70-93b8-dba0dce17fac",
   "metadata": {},
   "outputs": [
    {
     "data": {
      "text/plain": [
       "'There-can-only-one.'"
      ]
     },
     "execution_count": 17,
     "metadata": {},
     "output_type": "execute_result"
    }
   ],
   "source": [
    "'-'.join('There can only one.'.split())"
   ]
  },
  {
   "cell_type": "code",
   "execution_count": 20,
   "id": "bce3bd9e-aca8-4678-bdfb-749ef536c702",
   "metadata": {},
   "outputs": [
    {
     "data": {
      "text/plain": [
       "'deepak----'"
      ]
     },
     "execution_count": 20,
     "metadata": {},
     "output_type": "execute_result"
    }
   ],
   "source": [
    "#9. What are the methods for right-justifying, left-justifying, and centering a string?\n",
    "# left justified\n",
    "str =\"deepak\"\n",
    "str.ljust(10,\"-\")"
   ]
  },
  {
   "cell_type": "code",
   "execution_count": 21,
   "id": "b206411b-6e65-4b13-b021-d879b80ba3c9",
   "metadata": {},
   "outputs": [
    {
     "data": {
      "text/plain": [
       "'**********************************deepak'"
      ]
     },
     "execution_count": 21,
     "metadata": {},
     "output_type": "execute_result"
    }
   ],
   "source": [
    "# right justified\n",
    "str =\"deepak\"\n",
    "str.rjust(40,'*')"
   ]
  },
  {
   "cell_type": "code",
   "execution_count": 22,
   "id": "4b9fc23f-2dc4-4766-ab12-adaf95c2b46b",
   "metadata": {},
   "outputs": [
    {
     "data": {
      "text/plain": [
       "'*****************deepak*****************'"
      ]
     },
     "execution_count": 22,
     "metadata": {},
     "output_type": "execute_result"
    }
   ],
   "source": [
    "# center justified\n",
    "str =\"deepak\"\n",
    "str.center(40,'*')"
   ]
  },
  {
   "cell_type": "code",
   "execution_count": 23,
   "id": "44febddd-8ea3-4c5d-bada-a22c1e3d58c5",
   "metadata": {},
   "outputs": [
    {
     "data": {
      "text/plain": [
       "'deepak  '"
      ]
     },
     "execution_count": 23,
     "metadata": {},
     "output_type": "execute_result"
    }
   ],
   "source": [
    "#10. What is the best way to remove whitespace characters from the start or end?\n",
    "str =\"  deepak  \"\n",
    "str.lstrip()\n",
    "     "
   ]
  },
  {
   "cell_type": "code",
   "execution_count": 24,
   "id": "1e5ed3d1-a0a1-4a3f-a0af-cfa234419af4",
   "metadata": {},
   "outputs": [
    {
     "data": {
      "text/plain": [
       "'  deepak'"
      ]
     },
     "execution_count": 24,
     "metadata": {},
     "output_type": "execute_result"
    }
   ],
   "source": [
    "str =\"  deepak  \"\n",
    "str.rstrip()"
   ]
  },
  {
   "cell_type": "code",
   "execution_count": 25,
   "id": "171216fd-5ec2-4cf3-a53a-a493d8370a26",
   "metadata": {},
   "outputs": [
    {
     "data": {
      "text/plain": [
       "'deepak'"
      ]
     },
     "execution_count": 25,
     "metadata": {},
     "output_type": "execute_result"
    }
   ],
   "source": [
    "str =\"  deepak  \"\n",
    "str.strip()"
   ]
  },
  {
   "cell_type": "code",
   "execution_count": 27,
   "id": "2a0e577e-b1c3-4ba0-b7bc-42329a14456d",
   "metadata": {},
   "outputs": [],
   "source": [
    "#THESE ARE 3 WAY TO REMOVE WHITESPACE"
   ]
  },
  {
   "cell_type": "code",
   "execution_count": null,
   "id": "493e64ba-fa07-4eed-b7b8-4a94b97eb0eb",
   "metadata": {},
   "outputs": [],
   "source": []
  }
 ],
 "metadata": {
  "kernelspec": {
   "display_name": "Python 3 (ipykernel)",
   "language": "python",
   "name": "python3"
  },
  "language_info": {
   "codemirror_mode": {
    "name": "ipython",
    "version": 3
   },
   "file_extension": ".py",
   "mimetype": "text/x-python",
   "name": "python",
   "nbconvert_exporter": "python",
   "pygments_lexer": "ipython3",
   "version": "3.10.6"
  }
 },
 "nbformat": 4,
 "nbformat_minor": 5
}
