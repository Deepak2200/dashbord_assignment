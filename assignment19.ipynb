{
 "cells": [
  {
   "cell_type": "markdown",
   "id": "00d123db-90c4-4dcc-a872-ecedf98df238",
   "metadata": {},
   "source": [
    "#Q1. Make a class called Thing with no contents and print it. Then, create an object called example from this class and also print it.\n",
    "Are the printed values the same or different?"
   ]
  },
  {
   "cell_type": "code",
   "execution_count": 1,
   "id": "6a7a1e76-2eda-4471-95e7-5d50ad2c6027",
   "metadata": {},
   "outputs": [],
   "source": [
    "class Thing:\n",
    "    pass"
   ]
  },
  {
   "cell_type": "code",
   "execution_count": 2,
   "id": "d76656e7-d30e-440a-8360-794ebfa3a6d5",
   "metadata": {},
   "outputs": [
    {
     "name": "stdout",
     "output_type": "stream",
     "text": [
      "<class '__main__.Thing'>\n"
     ]
    }
   ],
   "source": [
    "print(Thing)"
   ]
  },
  {
   "cell_type": "code",
   "execution_count": 3,
   "id": "2b4a78cf-f43f-4106-a7c7-0d49a0ff9d32",
   "metadata": {},
   "outputs": [
    {
     "name": "stdout",
     "output_type": "stream",
     "text": [
      "<__main__.Thing object at 0x7f5c27ddfa60>\n"
     ]
    }
   ],
   "source": [
    "example = Thing()\n",
    "print(example)"
   ]
  },
  {
   "cell_type": "code",
   "execution_count": 4,
   "id": "1062717d-a7fe-48a3-ad1e-fab3c41c8bf1",
   "metadata": {},
   "outputs": [],
   "source": [
    "#Q2. Create a new class called Thing2 and add the value 'abc' to the letters class attribute. Letters should be printed."
   ]
  },
  {
   "cell_type": "code",
   "execution_count": 5,
   "id": "469b8a97-7228-4f93-ac0e-442b11edb47c",
   "metadata": {},
   "outputs": [
    {
     "data": {
      "text/plain": [
       "'abc'"
      ]
     },
     "execution_count": 5,
     "metadata": {},
     "output_type": "execute_result"
    }
   ],
   "source": [
    "class Thing2:\n",
    "    letters = 'abc'\n",
    "Thing2.letters"
   ]
  },
  {
   "cell_type": "markdown",
   "id": "36d03a18-053a-46b3-bba0-12c8d73b11f7",
   "metadata": {},
   "source": [
    "#Q3. Make yet another class called, of course, Thing3. This time, assign the value 'xyz' to an instance (object) attribute called letters.\n",
    "Print letters. Do you need to make an object from the class to do this?"
   ]
  },
  {
   "cell_type": "code",
   "execution_count": 6,
   "id": "2b9f942e-1022-47c5-912c-006fde46a5fe",
   "metadata": {},
   "outputs": [
    {
     "name": "stdout",
     "output_type": "stream",
     "text": [
      "xyz\n"
     ]
    }
   ],
   "source": [
    "class Thing3:\n",
    "    def __init__(self,letter):\n",
    "        self.letter = letter\n",
    "    def letters(self):\n",
    "        print(self.letter)\n",
    "Thing3('xyz').letters()"
   ]
  },
  {
   "cell_type": "markdown",
   "id": "8cda0dc3-2712-4812-aef6-f0f2a2a5f6f3",
   "metadata": {},
   "source": [
    "#Q4. Create an Element class with the instance attributes name, symbol, and number. Create a class object with the values 'Hydrogen','H' and 1."
   ]
  },
  {
   "cell_type": "code",
   "execution_count": 9,
   "id": "817049ea-57ae-4ad2-b05f-212b3c72fab4",
   "metadata": {},
   "outputs": [],
   "source": [
    "class Element:\n",
    "    def __init__(self,name,symbol,number):\n",
    "        self.name = name\n",
    "        self.symbol = symbol\n",
    "        self.number = number\n",
    "    def printThem(self):\n",
    "        print(self.name,self.symbol,self.number)"
   ]
  },
  {
   "cell_type": "code",
   "execution_count": 10,
   "id": "b30d45b3-64a4-4900-93fc-bb50a2d71225",
   "metadata": {},
   "outputs": [
    {
     "data": {
      "text/plain": [
       "'Hydrogen'"
      ]
     },
     "execution_count": 10,
     "metadata": {},
     "output_type": "execute_result"
    }
   ],
   "source": [
    "obj = Element('Hydrogen','H',1)\n",
    "obj.name\n",
    "     "
   ]
  },
  {
   "cell_type": "markdown",
   "id": "d74fe1ed-9955-4aa9-9bd5-9d55ba400ef8",
   "metadata": {},
   "source": [
    "#Q5. Make a dictionary with these keys and values: 'name' 'Hydrogen' 'symbol' 'H', 'number' 1. Then,create an object called hydrogen from class Element using this dictionary."
   ]
  },
  {
   "cell_type": "code",
   "execution_count": 11,
   "id": "7f22c1c9-0814-44ec-8658-be904e5ad5fb",
   "metadata": {},
   "outputs": [
    {
     "data": {
      "text/plain": [
       "'H'"
      ]
     },
     "execution_count": 11,
     "metadata": {},
     "output_type": "execute_result"
    }
   ],
   "source": [
    "dict = {'name':'Hydrogen', 'symbol':'H','number': 1}\n",
    "hydrogen = Element(**dict) # using dictionary unpacking **\n",
    "hydrogen.symbol"
   ]
  },
  {
   "cell_type": "markdown",
   "id": "9bd6c8e6-f913-46e0-81e2-289269aa056d",
   "metadata": {},
   "source": [
    "#Q6. For the Element class, define a method called dump() that prints the values of the object’s attributes (name, symbol, and number). Create the hydrogen object from this new definition and use dump() to print its attributes"
   ]
  },
  {
   "cell_type": "code",
   "execution_count": 13,
   "id": "fa274468-7be4-4bd7-b07b-aef3beb52d41",
   "metadata": {},
   "outputs": [
    {
     "name": "stdout",
     "output_type": "stream",
     "text": [
      "Hydrogen H 1\n"
     ]
    }
   ],
   "source": [
    "class Element:\n",
    "    def __init__(self,name,symbol,number):\n",
    "        self.name = name\n",
    "        self.symbol = symbol\n",
    "        self.number = number\n",
    "    def dump(self):\n",
    "        print(self.name,self.symbol,self.number)\n",
    "        \n",
    "hydrogen = Element('Hydrogen','H',1)\n",
    "hydrogen.dump()"
   ]
  },
  {
   "cell_type": "markdown",
   "id": "ada0a90a-0bae-4655-a6a5-dde93d68aa3e",
   "metadata": {},
   "source": [
    "#Q7. Call print(hydrogen). In the definition of Element, change the name of method dump to str, create a new hydrogen object, and call print(hydrogen) again."
   ]
  },
  {
   "cell_type": "code",
   "execution_count": 14,
   "id": "14a9e70d-a6ed-46ed-b87d-305dd1032d66",
   "metadata": {},
   "outputs": [
    {
     "name": "stdout",
     "output_type": "stream",
     "text": [
      "name=Hydrogen, symbol=H, number=1\n"
     ]
    }
   ],
   "source": [
    "class Element:\n",
    "    def __init__(self,name,symbol,number):\n",
    "        self.name = name\n",
    "        self.symbol = symbol\n",
    "        self.number = number\n",
    "    def __str__(self):\n",
    "        return ('name=%s, symbol=%s, number=%s'% (self.name, self.symbol, self.number) )\n",
    "     \n",
    "\n",
    "hydrogen = Element('Hydrogen','H',1)\n",
    "print(hydrogen)"
   ]
  },
  {
   "cell_type": "markdown",
   "id": "3b9edac9-2342-4fae-9879-d39bd85619fc",
   "metadata": {},
   "source": [
    "#Q8. Modify Element to make the attributes name, symbol, and number private. Define a getter property for each to return its value"
   ]
  },
  {
   "cell_type": "code",
   "execution_count": 15,
   "id": "aa4665f9-49bd-46f1-919c-434b89280497",
   "metadata": {},
   "outputs": [
    {
     "data": {
      "text/plain": [
       "'Hydrogen'"
      ]
     },
     "execution_count": 15,
     "metadata": {},
     "output_type": "execute_result"
    }
   ],
   "source": [
    "class Element(): \n",
    "    def __init__(self ,name,symbol,number):\n",
    "        self.__name = name\n",
    "        self.__symbol = symbol\n",
    "        self.__number = number\n",
    "    @property\n",
    "    def name(self):\n",
    "        return (self.__name)\n",
    "    @property\n",
    "    def symbol(self):\n",
    "        return (self.__symbol)\n",
    "    @property\n",
    "    def number(self):\n",
    "        return (self.__number)\n",
    "     \n",
    "\n",
    "hydrogen = Element('Hydrogen','H',1)\n",
    "hydrogen.name"
   ]
  },
  {
   "cell_type": "markdown",
   "id": "ffe7f93c-6793-4907-9d67-d97e428bc9a4",
   "metadata": {},
   "source": [
    "#Q9. Define three classes: Bear, Rabbit, and Octothorpe. For each, define only one method: eats(). This should return 'berries' (Bear), 'clover'(Rabbit), or 'campers' (Octothorpe). Create one object from each and print what it eats.¶"
   ]
  },
  {
   "cell_type": "code",
   "execution_count": 16,
   "id": "0ba3989b-44e9-4ea5-a748-8319217424aa",
   "metadata": {},
   "outputs": [],
   "source": [
    "class Bear:\n",
    "    def eats():\n",
    "        print('berries')\n",
    "\n",
    "class Rabbit:\n",
    "    def eats():\n",
    "        print('clover')\n",
    "\n",
    "class Octothorpe:\n",
    "    def eats():\n",
    "        print('campers')"
   ]
  },
  {
   "cell_type": "code",
   "execution_count": 17,
   "id": "01830a62-45c6-48dc-bef4-65833dcfef8e",
   "metadata": {},
   "outputs": [
    {
     "name": "stdout",
     "output_type": "stream",
     "text": [
      "berries\n"
     ]
    }
   ],
   "source": [
    "Bear.eats()"
   ]
  },
  {
   "cell_type": "code",
   "execution_count": 18,
   "id": "76aadf32-4cc8-41ea-ab47-9918643a14fd",
   "metadata": {},
   "outputs": [
    {
     "name": "stdout",
     "output_type": "stream",
     "text": [
      "clover\n"
     ]
    }
   ],
   "source": [
    "Rabbit.eats()"
   ]
  },
  {
   "cell_type": "code",
   "execution_count": 19,
   "id": "5b6c67ab-79df-41f8-a749-442afbd58f4f",
   "metadata": {},
   "outputs": [
    {
     "name": "stdout",
     "output_type": "stream",
     "text": [
      "campers\n"
     ]
    }
   ],
   "source": [
    "Octothorpe.eats()"
   ]
  },
  {
   "cell_type": "markdown",
   "id": "4d64b037-a708-466e-b6ea-308570bb1a61",
   "metadata": {},
   "source": [
    "#Q10. Define these classes: Laser, Claw, and SmartPhone. Each has only one method: does(). This returns 'disintegrate' (Laser), 'crush' (Claw), or 'ring' (SmartPhone). Then, define the class Robot that has one instance (object) of each of these. Define a does() method for the Robot that prints what its component objects do."
   ]
  },
  {
   "cell_type": "code",
   "execution_count": 20,
   "id": "41de989b-899e-4cee-a109-5fc8092e8fe8",
   "metadata": {},
   "outputs": [],
   "source": [
    "class Laser:\n",
    "    def does(self):\n",
    "        return('disitegrate')\n",
    "class Claw:\n",
    "    def does(self):\n",
    "        return('crush')\n",
    "class SmartPhone:\n",
    "    def does(self):\n",
    "        return('ring')\n",
    "        \n",
    "class Robot:\n",
    "    def __init__(self):\n",
    "        self.laser = Laser()\n",
    "        self.claw = Claw()\n",
    "        self.smartphone = SmartPhone()\n",
    "    def does(self):\n",
    "        return ('Laser is %s, Claw is %s, SmartPhone is %s' % (self.laser.does(),self.claw.does(),self.smartphone.does()))"
   ]
  },
  {
   "cell_type": "code",
   "execution_count": 21,
   "id": "266ab20e-9f9b-4f72-93b7-a4cd9673f794",
   "metadata": {},
   "outputs": [],
   "source": [
    "robo = Robot()"
   ]
  },
  {
   "cell_type": "code",
   "execution_count": 22,
   "id": "2df10661-eafd-44bc-bffb-aa631ec78bab",
   "metadata": {},
   "outputs": [
    {
     "data": {
      "text/plain": [
       "'Laser is disitegrate, Claw is crush, SmartPhone is ring'"
      ]
     },
     "execution_count": 22,
     "metadata": {},
     "output_type": "execute_result"
    }
   ],
   "source": [
    "robo.does()"
   ]
  },
  {
   "cell_type": "code",
   "execution_count": null,
   "id": "061b462c-1d44-4f16-80eb-740881fa9ff7",
   "metadata": {},
   "outputs": [],
   "source": []
  }
 ],
 "metadata": {
  "kernelspec": {
   "display_name": "Python 3 (ipykernel)",
   "language": "python",
   "name": "python3"
  },
  "language_info": {
   "codemirror_mode": {
    "name": "ipython",
    "version": 3
   },
   "file_extension": ".py",
   "mimetype": "text/x-python",
   "name": "python",
   "nbconvert_exporter": "python",
   "pygments_lexer": "ipython3",
   "version": "3.10.6"
  }
 },
 "nbformat": 4,
 "nbformat_minor": 5
}
