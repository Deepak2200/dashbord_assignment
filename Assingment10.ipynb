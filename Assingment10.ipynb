{
 "cells": [
  {
   "cell_type": "code",
   "execution_count": null,
   "id": "2150ce79-042c-4173-bfbe-2fa7c5c7a5e2",
   "metadata": {},
   "outputs": [],
   "source": [
    "#1. How do you distinguish between shutil.copy() and shutil.copytree()?\n",
    "Ans. shutil.copy : Copies a single file\n",
    "shutil.copytree() : will copy an entire folder and every folder and file contained in it"
   ]
  },
  {
   "cell_type": "code",
   "execution_count": null,
   "id": "0c05101e-4290-4a25-bab5-af08745b003d",
   "metadata": {},
   "outputs": [],
   "source": [
    "#2. What function is used to rename files??\n",
    "Ans. import os\n",
    "os.rename(\"text.txt\",\"testnew.txt\")"
   ]
  },
  {
   "cell_type": "code",
   "execution_count": null,
   "id": "bd56e4aa-457d-4c79-b474-4bd990440533",
   "metadata": {},
   "outputs": [],
   "source": [
    "#3. What is the difference between the delete functions in the send2trash and shutil modules?\n",
    "Ans. \n",
    "shutil.retree(): The shutil module’s rmtree() function can be used to delete files or folders.\n",
    "But, this function delete the files permanently. \n",
    "The operations cannot be undone if there were any accidental deletions performed\n",
    "\n",
    "send2trash.send2trash() : Using send2trash, we can send files to the Trash or Recycle Bin instead of permanently\n",
    "\n",
    "deleting them. If the directory contains files or other folders, those are also deleted. A TrashPermissionError exception is raised, in case a file could not be deleted due to permission error or any other unexpected reason.\n",
    "\n"
   ]
  },
  {
   "cell_type": "code",
   "execution_count": null,
   "id": "708e5a7f-96f2-4e1b-9102-95ff2758efcc",
   "metadata": {},
   "outputs": [],
   "source": [
    "#4.ZipFile objects have a close() method just like File objects’ close() method.What ZipFile method is equivalent to File objects’ open() method?\n",
    "Ans. from zipfile import Zipfile\n",
    "with ZipFile(file_name, 'r') as zip: -> this code will open specified zipfile for us. we can use zip object to preform other operation the ziplife. like zip.read()"
   ]
  },
  {
   "cell_type": "code",
   "execution_count": null,
   "id": "774ad9a6-5f73-4ad3-944a-2ff8d21dd9a0",
   "metadata": {},
   "outputs": [],
   "source": [
    "#5. Create a programme that searches a folder tree for files with a certain file extension (such as .pdf or .jpg). \n",
    "#Copy these files from whatever location they are in to a new folder.\n",
    "\n"
   ]
  },
  {
   "cell_type": "code",
   "execution_count": null,
   "id": "62312ba8-e2af-4693-8157-20ff7525fe60",
   "metadata": {},
   "outputs": [],
   "source": []
  },
  {
   "cell_type": "code",
   "execution_count": null,
   "id": "f20510a1-2d69-4fe3-84f3-5c6bd8ec44d4",
   "metadata": {},
   "outputs": [],
   "source": []
  }
 ],
 "metadata": {
  "kernelspec": {
   "display_name": "Python 3 (ipykernel)",
   "language": "python",
   "name": "python3"
  },
  "language_info": {
   "codemirror_mode": {
    "name": "ipython",
    "version": 3
   },
   "file_extension": ".py",
   "mimetype": "text/x-python",
   "name": "python",
   "nbconvert_exporter": "python",
   "pygments_lexer": "ipython3",
   "version": "3.10.6"
  }
 },
 "nbformat": 4,
 "nbformat_minor": 5
}
