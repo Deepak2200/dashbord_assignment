{
 "cells": [
  {
   "cell_type": "code",
   "execution_count": null,
   "id": "f60503b2-fc10-4381-8a91-013e06729581",
   "metadata": {},
   "outputs": [],
   "source": [
    "#1. To what does a relative path refer?\n",
    "A relative path in Python is a path that describes the location of a directory relative to the entry point where you run the Python script"
   ]
  },
  {
   "cell_type": "code",
   "execution_count": null,
   "id": "59e93f16-597b-4279-a427-63ae8ef7bcc4",
   "metadata": {},
   "outputs": [],
   "source": [
    "#2. What does an absolute path start with your operating system?\n",
    "An absolute path makes no assumptions about your current location in relation to the location of the file or directory it's describing. \n",
    "An absolute path always begins from the absolute start of your hard drive and describes every step you must take \n",
    "through the filesystem to end up at the target location."
   ]
  },
  {
   "cell_type": "code",
   "execution_count": null,
   "id": "8e29e6e3-f802-429f-b990-c41537d77290",
   "metadata": {},
   "outputs": [],
   "source": [
    "#3. What do the functions os.getcwd() and os.chdir() do?\n",
    "getcwd() : use for Current Working Directory. This function allows you to see what your current working directory\n",
    "chdir(\"path-to-dir\") : Short for Change Directory, this function allows you to set the current working directory to a path of your choice"
   ]
  },
  {
   "cell_type": "code",
   "execution_count": 2,
   "id": "1f888ea1-82a2-4228-80e8-f659f31bec63",
   "metadata": {},
   "outputs": [
    {
     "data": {
      "text/plain": [
       "'/home/jovyan/work'"
      ]
     },
     "execution_count": 2,
     "metadata": {},
     "output_type": "execute_result"
    }
   ],
   "source": [
    "import os\n",
    "os.getcwd()"
   ]
  },
  {
   "cell_type": "code",
   "execution_count": 3,
   "id": "69a381e3-68cc-42dd-8885-cadc3d513591",
   "metadata": {},
   "outputs": [
    {
     "ename": "TypeError",
     "evalue": "chdir() missing required argument 'path' (pos 1)",
     "output_type": "error",
     "traceback": [
      "\u001b[0;31m---------------------------------------------------------------------------\u001b[0m",
      "\u001b[0;31mTypeError\u001b[0m                                 Traceback (most recent call last)",
      "Cell \u001b[0;32mIn [3], line 1\u001b[0m\n\u001b[0;32m----> 1\u001b[0m \u001b[43mos\u001b[49m\u001b[38;5;241;43m.\u001b[39;49m\u001b[43mchdir\u001b[49m\u001b[43m(\u001b[49m\u001b[43m)\u001b[49m\n",
      "\u001b[0;31mTypeError\u001b[0m: chdir() missing required argument 'path' (pos 1)"
     ]
    }
   ],
   "source": [
    "os.chdir() # it requare an object show it path\n",
    "like :- os.chdir('c:\\\\gfg_dir')"
   ]
  },
  {
   "cell_type": "code",
   "execution_count": null,
   "id": "2ad6874d-4526-4078-a204-42e3422d2e4d",
   "metadata": {},
   "outputs": [],
   "source": [
    "#4. What are the . and .. folders?\n",
    "\".\" is the current directory.\n",
    "\n",
    "\"..\" is the parent directory."
   ]
  },
  {
   "cell_type": "code",
   "execution_count": null,
   "id": "1dc473a6-c62e-4c47-b26a-f944b04f71fb",
   "metadata": {},
   "outputs": [],
   "source": [
    "#5. In C:\\bacon\\eggs\\spam.txt, which part is the dir name, and which part is the base name?\n",
    "C:\\bacon\\eggs is the dir name, while spam.\n",
    "txt is the base name."
   ]
  },
  {
   "cell_type": "code",
   "execution_count": null,
   "id": "004a6a70-5b29-49be-a1ef-a2355470987d",
   "metadata": {},
   "outputs": [],
   "source": [
    "#6. What are the three “mode” arguments that can be passed to the open() function?\n",
    "r : Opens the file in read-only mode. ...\n",
    "rb : Opens the file as read-only in binary format and starts reading from the beginning of the file. ...\n",
    "r+ : Opens a file for reading and writing, placing the pointer at the beginning of the file."
   ]
  },
  {
   "cell_type": "code",
   "execution_count": null,
   "id": "4d878683-a529-404d-a186-ebd0f22e3153",
   "metadata": {},
   "outputs": [],
   "source": [
    "#7. What happens if an existing file is opened in write mode?\n",
    "we need a new empty file with write mode is created."
   ]
  },
  {
   "cell_type": "code",
   "execution_count": null,
   "id": "bf891509-ac66-4701-b241-5024307e70ef",
   "metadata": {},
   "outputs": [],
   "source": [
    "#8. How do you tell the difference between read() and readlines()?\n",
    "read() will read the whole file at once\n",
    "readline() that will read and print out only the first characters "
   ]
  },
  {
   "cell_type": "code",
   "execution_count": null,
   "id": "c2636e86-ea41-444f-9273-0c18220d0f2f",
   "metadata": {},
   "outputs": [],
   "source": [
    "#9. What data structure does a shelf value resemble?\n",
    "A shelf value resembles a dictionary value"
   ]
  }
 ],
 "metadata": {
  "kernelspec": {
   "display_name": "Python 3 (ipykernel)",
   "language": "python",
   "name": "python3"
  },
  "language_info": {
   "codemirror_mode": {
    "name": "ipython",
    "version": 3
   },
   "file_extension": ".py",
   "mimetype": "text/x-python",
   "name": "python",
   "nbconvert_exporter": "python",
   "pygments_lexer": "ipython3",
   "version": "3.10.6"
  }
 },
 "nbformat": 4,
 "nbformat_minor": 5
}
