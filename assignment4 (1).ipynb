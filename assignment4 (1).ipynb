{
 "cells": [
  {
   "cell_type": "code",
   "execution_count": null,
   "id": "0877c7d4-3516-47f2-96c7-17f2f6e93202",
   "metadata": {},
   "outputs": [],
   "source": [
    "#1. What exactly is []?\n",
    "Ans. [] this is the empty list or simble if the list\n",
    "var=[]"
   ]
  },
  {
   "cell_type": "code",
   "execution_count": null,
   "id": "90c4299a-63f9-435f-aab1-79ef3141ec5b",
   "metadata": {},
   "outputs": [],
   "source": [
    "#2. In a list of values stored in a variable called spam, how would you assign the value 'hello' as the third value? (Assume [2, 4, 6, 8, 10] are in spam.)\n"
   ]
  },
  {
   "cell_type": "code",
   "execution_count": 1,
   "id": "80f61fac-37d3-4730-af12-73992f85a237",
   "metadata": {},
   "outputs": [
    {
     "data": {
      "text/plain": [
       "[2, 4, 'hello', 8, 10]"
      ]
     },
     "execution_count": 1,
     "metadata": {},
     "output_type": "execute_result"
    }
   ],
   "source": [
    "# solution by changing the value in index 3\n",
    "spam = [2, 4, 6, 8, 10]\n",
    "spam[2] = 'hello'\n",
    "spam\n",
    "     "
   ]
  },
  {
   "cell_type": "markdown",
   "id": "e82d1d95-9d59-4748-9cb5-2455a18d703f",
   "metadata": {},
   "source": [
    "# Let's pretend the spam includes the list ['a', 'b', 'c', 'd'] for the next three queries."
   ]
  },
  {
   "cell_type": "code",
   "execution_count": null,
   "id": "239ef5ed-8be3-4d24-91d3-0ab0faf81251",
   "metadata": {},
   "outputs": [],
   "source": [
    "#3. What is the value of spam[int(int('3' * 2) / 11)]?"
   ]
  },
  {
   "cell_type": "code",
   "execution_count": 2,
   "id": "61c178ac-96c8-4052-a77b-c102f0e566a5",
   "metadata": {},
   "outputs": [
    {
     "data": {
      "text/plain": [
       "'d'"
      ]
     },
     "execution_count": 2,
     "metadata": {},
     "output_type": "execute_result"
    }
   ],
   "source": [
    "spam = ['a', 'b','c','d']\n",
    "spam[int(int('3' * 2) / 11)] #its values is 3 \n",
    "     "
   ]
  },
  {
   "cell_type": "code",
   "execution_count": 5,
   "id": "be3f7827-0ad9-4aeb-a4e8-fef68496ed4a",
   "metadata": {},
   "outputs": [
    {
     "data": {
      "text/plain": [
       "3"
      ]
     },
     "execution_count": 5,
     "metadata": {},
     "output_type": "execute_result"
    }
   ],
   "source": [
    "int(int('3' * 2) / 11)"
   ]
  },
  {
   "cell_type": "code",
   "execution_count": 6,
   "id": "1f92782f-5229-4947-9576-6e0878adbc04",
   "metadata": {},
   "outputs": [
    {
     "data": {
      "text/plain": [
       "'d'"
      ]
     },
     "execution_count": 6,
     "metadata": {},
     "output_type": "execute_result"
    }
   ],
   "source": [
    "#4. What is the value of spam[-1]?\n",
    "spam = ['a', 'b','c','d']\n",
    "spam[-1]\n",
    "#negative index start with the opposite to positive index and there is no [-0]"
   ]
  },
  {
   "cell_type": "code",
   "execution_count": 8,
   "id": "c5dbedbf-6e52-41a3-905b-6fe3cc309617",
   "metadata": {},
   "outputs": [
    {
     "data": {
      "text/plain": [
       "['a', 'b']"
      ]
     },
     "execution_count": 8,
     "metadata": {},
     "output_type": "execute_result"
    }
   ],
   "source": [
    "#5. What is the value of spam[:2]?\n",
    "spam = ['a', 'b','c','d']\n",
    "spam[:2]\n",
    "#index[start_index,end_index,step_index]"
   ]
  },
  {
   "cell_type": "markdown",
   "id": "22c0a2fa-3c07-46c9-9469-bd5650d7c3ca",
   "metadata": {},
   "source": [
    "# Let's pretend bacon has the list [3.14, 'cat,' 11, 'cat,' True] for the next three questions."
   ]
  },
  {
   "cell_type": "code",
   "execution_count": null,
   "id": "3270110b-d7c0-4f05-b545-9cf0a28803ef",
   "metadata": {},
   "outputs": [],
   "source": [
    "#6. What is the value of bacon.index('cat')?\n",
    "bacon = [3.14, 'cat', 11, 'cat', True]\n",
    "bacon.index('cat') \n",
    "# it returns the index of first occurrence of 'cat'\n",
    "     "
   ]
  },
  {
   "cell_type": "code",
   "execution_count": 9,
   "id": "ea137cc0-1413-49c0-a347-f3868f3c28c5",
   "metadata": {},
   "outputs": [
    {
     "data": {
      "text/plain": [
       "[3.14, 'cat', 11, 'cat', True, 99]"
      ]
     },
     "execution_count": 9,
     "metadata": {},
     "output_type": "execute_result"
    }
   ],
   "source": [
    "#7. How does bacon.append(99) change the look of the list value in bacon?\n",
    "bacon = [3.14, 'cat', 11, 'cat', True]\n",
    "bacon.append(99) # list have append function for adding data in last\n",
    "bacon\n",
    "     "
   ]
  },
  {
   "cell_type": "code",
   "execution_count": 10,
   "id": "ef259c7e-bb28-44c8-ac05-e51f518ccd51",
   "metadata": {},
   "outputs": [
    {
     "data": {
      "text/plain": [
       "[3.14, 11, 'cat', True]"
      ]
     },
     "execution_count": 10,
     "metadata": {},
     "output_type": "execute_result"
    }
   ],
   "source": [
    "#8. How does bacon.remove('cat') change the look of the list in bacon?\n",
    "bacon = [3.14, 'cat', 11, 'cat', True]\n",
    "bacon.remove('cat') # remove first occurrence of item\n",
    "bacon"
   ]
  },
  {
   "cell_type": "code",
   "execution_count": 11,
   "id": "1d0d2a95-caa4-4719-b967-7612e96aac83",
   "metadata": {},
   "outputs": [
    {
     "data": {
      "text/plain": [
       "[1, 4, 2, 5]"
      ]
     },
     "execution_count": 11,
     "metadata": {},
     "output_type": "execute_result"
    }
   ],
   "source": [
    "#9. What are the list concatenation and list replication operators?\n",
    "Ans. for concatenation we use (+) and for replication we use (*)\n",
    "l1 = [1,4]\n",
    "l2 = [2,5]\n",
    "l1+l2\n",
    "# list concatination beacuse all are numerical value\n",
    "     "
   ]
  },
  {
   "cell_type": "code",
   "execution_count": 12,
   "id": "cea7955b-df02-4548-a911-6043b0119109",
   "metadata": {},
   "outputs": [
    {
     "data": {
      "text/plain": [
       "[7, 4, 7, 4, 7, 4]"
      ]
     },
     "execution_count": 12,
     "metadata": {},
     "output_type": "execute_result"
    }
   ],
   "source": [
    "l1 = [7,4]\n",
    "l1*3\n",
    "# list replication/multiple      "
   ]
  },
  {
   "cell_type": "code",
   "execution_count": null,
   "id": "311135af-329c-4b07-ba0f-ebbdcc3fe355",
   "metadata": {},
   "outputs": [],
   "source": [
    "#10. What is difference between the list methods append() and insert()?\n",
    "append() Appends object to the end of the list\n",
    "insert() Insert object before index\n"
   ]
  },
  {
   "cell_type": "code",
   "execution_count": 13,
   "id": "a9c52f0a-0908-44ca-9801-979181388e37",
   "metadata": {},
   "outputs": [
    {
     "data": {
      "text/plain": [
       "[3.14, 'cat', 11, 'cat', True, 99]"
      ]
     },
     "execution_count": 13,
     "metadata": {},
     "output_type": "execute_result"
    }
   ],
   "source": [
    "bacon = [3.14, 'cat', 11, 'cat', True]\n",
    "bacon.append(99) # append adds the item at the end of the list\n",
    "bacon"
   ]
  },
  {
   "cell_type": "code",
   "execution_count": 15,
   "id": "b476a9c4-3b1b-478d-a7bd-65a91e55227c",
   "metadata": {},
   "outputs": [
    {
     "data": {
      "text/plain": [
       "[2, 4, 'hello', 6, 8, 10]"
      ]
     },
     "execution_count": 15,
     "metadata": {},
     "output_type": "execute_result"
    }
   ],
   "source": [
    "spam = [2, 4, 6, 8, 10]\n",
    "spam.insert(2,'hello')\n",
    "spam\n",
    "     "
   ]
  },
  {
   "cell_type": "code",
   "execution_count": 16,
   "id": "fb5e080f-c298-4cc2-8f80-f1b07c1ef81f",
   "metadata": {},
   "outputs": [
    {
     "data": {
      "text/plain": [
       "[3.14, 11, 'cat', True]"
      ]
     },
     "execution_count": 16,
     "metadata": {},
     "output_type": "execute_result"
    }
   ],
   "source": [
    "#11. What are the two methods for removing items from a list?\n",
    "bacon = [3.14, 'cat', 11, 'cat', True]\n",
    "bacon.remove('cat')\n",
    "bacon\n",
    "#remove fuction are use to remove the item"
   ]
  },
  {
   "cell_type": "code",
   "execution_count": 19,
   "id": "4f62d5f0-f83f-4462-ad78-67f1c6b96718",
   "metadata": {},
   "outputs": [
    {
     "data": {
      "text/plain": [
       "[3.14, 'cat', 11, 'cat']"
      ]
     },
     "execution_count": 19,
     "metadata": {},
     "output_type": "execute_result"
    }
   ],
   "source": [
    "#pop() - Remove and returns item at index (default last).\n",
    "bacon = [3.14, 'cat', 11, 'cat', True]\n",
    "bacon.pop()\n",
    "bacon"
   ]
  },
  {
   "cell_type": "code",
   "execution_count": 18,
   "id": "cf168c7d-e0e8-469e-acdd-3a571660872e",
   "metadata": {},
   "outputs": [],
   "source": [
    "#12. Describe how list values and string values are identical.\n",
    "#Both lists and strings can be passed to len()\n",
    "#Have indexes and slices\n",
    "#Can be used in for loops\n",
    "#Can be concatenated or replicated\n",
    "#Can be used with the in and not in operators\n",
    "     "
   ]
  },
  {
   "cell_type": "code",
   "execution_count": null,
   "id": "8e210e4d-9bb7-482a-9b4d-94d4817d1826",
   "metadata": {},
   "outputs": [],
   "source": [
    "#13. What's the difference between tuples and lists?\n",
    "Lists : are mutable - they can have values added, removed, or changed. lists use the square brackets, [ and ]\n",
    "Tuples : are immutable; they cannot be changed at all. Tuples are written using parentheses, ( and )"
   ]
  },
  {
   "cell_type": "code",
   "execution_count": 22,
   "id": "82e8b221-b2e8-414a-9881-51647a6c19d7",
   "metadata": {},
   "outputs": [
    {
     "data": {
      "text/plain": [
       "42"
      ]
     },
     "execution_count": 22,
     "metadata": {},
     "output_type": "execute_result"
    }
   ],
   "source": [
    "#14. How do you type a tuple value that only contains the integer 42?\n",
    "tuple = (42)\n",
    "tuple\n"
   ]
  },
  {
   "cell_type": "code",
   "execution_count": 52,
   "id": "f0e0e2aa-6722-4ff4-8dc4-ebcdd1995bc9",
   "metadata": {},
   "outputs": [],
   "source": [
    "#15. How do you get a list value's tuple form? How do you get a tuple value's list form?\n",
    "\n",
    "#this is possible ny deta mangling we can convert list to tule and tuple to list\n",
    "l = [2,3]\n",
    "t = tuple(l)\n",
    "t"
   ]
  },
  {
   "cell_type": "code",
   "execution_count": 37,
   "id": "e761562e-acbc-4f5b-a02a-f4eea254c0a1",
   "metadata": {},
   "outputs": [
    {
     "data": {
      "text/plain": [
       "[3, 4]"
      ]
     },
     "execution_count": 37,
     "metadata": {},
     "output_type": "execute_result"
    }
   ],
   "source": [
    "t1 = (3,4)\n",
    "t = list(t1)\n",
    "t"
   ]
  },
  {
   "cell_type": "code",
   "execution_count": 31,
   "id": "d38f703e-4a08-4470-932d-ec25df6914f5",
   "metadata": {},
   "outputs": [],
   "source": [
    "#16. Variables that \"contain\" list values are not necessarily lists themselves. Instead, what do they contain?\n",
    "\n",
    "Ans. They contain references to list values rather than list values themselves"
   ]
  },
  {
   "cell_type": "code",
   "execution_count": null,
   "id": "1c10bd3d-66e5-4706-9b53-7b4ef6c3b4ac",
   "metadata": {},
   "outputs": [],
   "source": [
    "#17. How do you distinguish between copy.copy() and copy.deepcopy()?\n",
    "Ans . The copy.copy() function will do a shallow copy of a list,\n",
    "The copy.deepcopy() function will do a deep copy of a list. only copy.deepcopy() will duplicate any lists inside the list\n"
   ]
  }
 ],
 "metadata": {
  "kernelspec": {
   "display_name": "Python 3 (ipykernel)",
   "language": "python",
   "name": "python3"
  },
  "language_info": {
   "codemirror_mode": {
    "name": "ipython",
    "version": 3
   },
   "file_extension": ".py",
   "mimetype": "text/x-python",
   "name": "python",
   "nbconvert_exporter": "python",
   "pygments_lexer": "ipython3",
   "version": "3.10.6"
  }
 },
 "nbformat": 4,
 "nbformat_minor": 5
}
