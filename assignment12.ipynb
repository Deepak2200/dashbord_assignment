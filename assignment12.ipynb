{
 "cells": [
  {
   "cell_type": "code",
   "execution_count": null,
   "id": "0ec11c8c-2b78-4252-bbec-e927b72ca8b7",
   "metadata": {},
   "outputs": [],
   "source": [
    "#Q1. In what modes should the PdfFileReader() and PdfFileWriter() File objects will be opened?\n",
    "These files will be opened in binary mode., read binary (rb) for PdfFileREader() and write binary (wb) PdfFileWriter()"
   ]
  },
  {
   "cell_type": "code",
   "execution_count": 1,
   "id": "7944e974-5ffe-47c5-b84d-a392051f672f",
   "metadata": {},
   "outputs": [
    {
     "name": "stdout",
     "output_type": "stream",
     "text": [
      "Collecting PyPDF2\n",
      "  Downloading pypdf2-3.0.1-py3-none-any.whl (232 kB)\n",
      "\u001b[2K     \u001b[90m━━━━━━━━━━━━━━━━━━━━━━━━━━━━━━━━━━━━━━\u001b[0m \u001b[32m232.6/232.6 kB\u001b[0m \u001b[31m21.0 MB/s\u001b[0m eta \u001b[36m0:00:00\u001b[0m\n",
      "\u001b[?25hInstalling collected packages: PyPDF2\n",
      "Successfully installed PyPDF2-3.0.1\n"
     ]
    }
   ],
   "source": [
    "!pip install PyPDF2"
   ]
  },
  {
   "cell_type": "code",
   "execution_count": null,
   "id": "b7602516-c0b3-4bc1-a115-69a4d6d18121",
   "metadata": {},
   "outputs": [],
   "source": [
    "#2. From a PdfFileReader object, how do you get a Page object for page 5?\n",
    "Ans. Calling getPage(4) will return a Page object for page 5 since page 0 is the first page"
   ]
  },
  {
   "cell_type": "code",
   "execution_count": null,
   "id": "e39f1989-629a-483e-8e26-3784038d5443",
   "metadata": {},
   "outputs": [],
   "source": [
    "import PyPDF2 as pdf\n",
    "pdfFileObj = open(\"cardealer.pdf\",'rb')\n",
    "pdfReader = pdf.PdfFileReader(pdfFileObj)\n",
    "pageObj = pdfReader.getPage(4)\n",
    "pageObj.extractText()"
   ]
  },
  {
   "cell_type": "code",
   "execution_count": null,
   "id": "f5cd56a7-da13-4fd1-8799-ada80fac8afa",
   "metadata": {},
   "outputs": [],
   "source": [
    "#3. What PdfFileReader variable stores the number of pages in the PDF document?\n"
   ]
  },
  {
   "cell_type": "code",
   "execution_count": null,
   "id": "5924b8c6-3d68-40e5-9db4-d6260387a780",
   "metadata": {},
   "outputs": [],
   "source": [
    "Solution:-\n",
    "import PyPDF2 as pdf\n",
    "pdfFileObj = open(\"cardealer.pdf\",'rb')\n",
    "pdfReader = pdf.PdfFileReader(pdfFileObj)\n",
    "pdfReader.numPages\n",
    "     "
   ]
  },
  {
   "cell_type": "code",
   "execution_count": null,
   "id": "b5ef152d-a7d9-47fb-9907-28aabbc07166",
   "metadata": {},
   "outputs": [],
   "source": [
    "#4. If a PdfFileReader object’s PDF is encrypted with the password swordfish, what must you do before you can obtain Page objects from it?\n",
    "Ans. Before we obtain the page object, the pdf has to be decrypted by calling .decrypt('swordfish')"
   ]
  },
  {
   "cell_type": "code",
   "execution_count": null,
   "id": "49650749-98bc-44aa-bddc-6ae1a762a2a0",
   "metadata": {},
   "outputs": [],
   "source": [
    "#5. What methods do you use to rotate a page?\n",
    "pageObj.rotateClockwise(180)\n",
    "\n",
    "The rotateClockwise() and rotateCounterClockwise() methods. The degrees to rotate is passed as an integer argument"
   ]
  },
  {
   "cell_type": "code",
   "execution_count": null,
   "id": "eef5985f-0a52-497e-a308-4ed7bec3b76e",
   "metadata": {},
   "outputs": [],
   "source": [
    "#6. What is the difference between a Run object and a Paragraph object\n",
    "Ans:-Paragraph Object : A document contains multiple paragraphs. A paragraph begins on a new line and contains multiple\n",
    "runs. The Document object contains a list of Paragraph objects for the paragraphs in the document.\n",
    "(A new paragraph begins whenever the user presses ENTER or RETURN while typing in a Word document.)\n",
    "\n",
    "Run Objects : Runs are contiguous groups of characters within a paragraph with the same style"
   ]
  },
  {
   "cell_type": "code",
   "execution_count": null,
   "id": "e7f21399-fa03-48ac-8d0c-e673433bd815",
   "metadata": {},
   "outputs": [],
   "source": [
    "#7. How do you obtain a list of Paragraph objects for a Document object that’s stored in a variable named doc?\n",
    "#!pip install python-docx\n",
    "import docx\n",
    "doc = docx.Document('abc.docx')\n",
    "doc.paragraphs\n",
    "#By using doc.paragraphs"
   ]
  },
  {
   "cell_type": "code",
   "execution_count": null,
   "id": "3d2550c2-adac-48da-bfcc-1539f867e11f",
   "metadata": {},
   "outputs": [],
   "source": [
    "#8. What type of object has bold, underline, italic, strike, and outline variables?\n",
    "Ans:-A Run object has bold, underline,italic,strike and outline variables"
   ]
  },
  {
   "cell_type": "code",
   "execution_count": null,
   "id": "74073192-081b-42c0-a950-925848ca2f0f",
   "metadata": {},
   "outputs": [],
   "source": [
    "#9. What is the difference between False, True, and None for the bold variable?\n",
    "Ans:-\n",
    "Runs can be further styled using text attributes. Each attribute can be set to one of three values:\n",
    "True (the attribute is always enabled, no matter what other styles are applied to the run),\n",
    "False (the attribute is always disabled),\n",
    "None (defaults to whatever the run’s style is set to)\n",
    "\n",
    "True always makes the Run object bolded and False mak"
   ]
  },
  {
   "cell_type": "code",
   "execution_count": null,
   "id": "ae5853b4-19ea-4fef-a486-d854d7567089",
   "metadata": {},
   "outputs": [],
   "source": [
    "#10. How do you create a Document object for a new Word document?\n",
    "\n",
    "Ans:-By Calling the docx.Document() function."
   ]
  },
  {
   "cell_type": "code",
   "execution_count": null,
   "id": "0b948918-626b-401e-8659-938b7e7660c9",
   "metadata": {},
   "outputs": [],
   "source": [
    "#11. How do you add a paragraph with the text 'Hello, there!' to a Document object stored in a variable named doc?\n",
    "import docx\n",
    "doc = docx.Document()\n",
    "\n",
    "doc.add_paragraph('Hello there!')\n",
    "doc.save('hellothere.docx')"
   ]
  },
  {
   "cell_type": "code",
   "execution_count": null,
   "id": "a2ac0120-97d6-40ab-bf34-e0bbed266b14",
   "metadata": {},
   "outputs": [],
   "source": [
    "#12. What integers represent the levels of headings available in Word documents?\n",
    "1.integer from 0 to 4\n",
    "2.The arguments to add_heading() are a string of the heading text and an integer from 0 to 4.\n",
    "The integer 0 makes the heading the Title style, which is used for the top of the document.\n",
    "Integers 1 to 4 are for various heading levels, with 1 being the main heading and 4 the lowest subheading"
   ]
  }
 ],
 "metadata": {
  "kernelspec": {
   "display_name": "Python 3 (ipykernel)",
   "language": "python",
   "name": "python3"
  },
  "language_info": {
   "codemirror_mode": {
    "name": "ipython",
    "version": 3
   },
   "file_extension": ".py",
   "mimetype": "text/x-python",
   "name": "python",
   "nbconvert_exporter": "python",
   "pygments_lexer": "ipython3",
   "version": "3.10.6"
  }
 },
 "nbformat": 4,
 "nbformat_minor": 5
}
