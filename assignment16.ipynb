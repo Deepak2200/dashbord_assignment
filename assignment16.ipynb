{
 "cells": [
  {
   "cell_type": "markdown",
   "id": "1f271ef0-9627-4bed-bff6-b8d105e83c03",
   "metadata": {},
   "source": [
    "#1. Create a list called years_list, starting with the year of your birth, and each year thereafter until the year of your fifth birthday. \n",
    "#For example, if you were born in 1980. the list would be years_list = [1980, 1981, 1982, 1983, 1984, 1985]."
   ]
  },
  {
   "cell_type": "code",
   "execution_count": 1,
   "id": "9dca2e76-92df-45c8-b8d4-1dd793522014",
   "metadata": {},
   "outputs": [
    {
     "data": {
      "text/plain": [
       "[1997, 1998, 1999, 2000, 2001, 2002]"
      ]
     },
     "execution_count": 1,
     "metadata": {},
     "output_type": "execute_result"
    }
   ],
   "source": [
    "#solution\n",
    "years_list = [i for i in range(1997,1997+6)]\n",
    "years_list"
   ]
  },
  {
   "cell_type": "markdown",
   "id": "3c5b2901-68b6-416c-a3df-96384d1adce4",
   "metadata": {},
   "source": [
    "#2. In which year in years_list was your third birthday? Remember, you were 0 years of age for your first year."
   ]
  },
  {
   "cell_type": "code",
   "execution_count": 2,
   "id": "fa76a34d-c80f-44be-87d4-b12a5c77dde6",
   "metadata": {},
   "outputs": [
    {
     "data": {
      "text/plain": [
       "2000"
      ]
     },
     "execution_count": 2,
     "metadata": {},
     "output_type": "execute_result"
    }
   ],
   "source": [
    "#solution\n",
    "years_list[3]"
   ]
  },
  {
   "cell_type": "markdown",
   "id": "1307b9ea-3431-4ede-94ba-8caa7bc6222c",
   "metadata": {},
   "source": [
    "#3.In the years list, which year were you the oldest?"
   ]
  },
  {
   "cell_type": "code",
   "execution_count": 3,
   "id": "8da16cc3-5d21-464a-b655-695c98aa0971",
   "metadata": {},
   "outputs": [
    {
     "data": {
      "text/plain": [
       "2002"
      ]
     },
     "execution_count": 3,
     "metadata": {},
     "output_type": "execute_result"
    }
   ],
   "source": [
    "#solution\n",
    "max(years_list)"
   ]
  },
  {
   "cell_type": "markdown",
   "id": "7463d1a4-83ec-44e7-a04f-2cf87fcb21dd",
   "metadata": {},
   "source": [
    "#4. Make a list called things with these three strings as elements: \"mozzarella\", \"cinderella\", \"salmonella\"."
   ]
  },
  {
   "cell_type": "code",
   "execution_count": 4,
   "id": "42f67181-97f2-4c7f-8b1d-c2f0771ab1b6",
   "metadata": {},
   "outputs": [
    {
     "data": {
      "text/plain": [
       "['mozzarella', 'cinderella', 'salmonella']"
      ]
     },
     "execution_count": 4,
     "metadata": {},
     "output_type": "execute_result"
    }
   ],
   "source": [
    "#solution:-\n",
    "things = list(['mozzarella', 'cinderella','salmonella'])\n",
    "things\n",
    "     "
   ]
  },
  {
   "cell_type": "markdown",
   "id": "4a4c7285-156d-4423-9aa2-4b0fdbacceca",
   "metadata": {},
   "source": [
    "#5. Capitalize the element in things that refers to a person and then print the list. \n",
    "Did it change the element in the list?"
   ]
  },
  {
   "cell_type": "code",
   "execution_count": 5,
   "id": "17588bb5-9df7-455b-beab-3d88a4b7a333",
   "metadata": {},
   "outputs": [
    {
     "name": "stdout",
     "output_type": "stream",
     "text": [
      "Mozzarella\n",
      "Cinderella\n",
      "Salmonella\n"
     ]
    },
    {
     "data": {
      "text/plain": [
       "['mozzarella', 'cinderella', 'salmonella']"
      ]
     },
     "execution_count": 5,
     "metadata": {},
     "output_type": "execute_result"
    }
   ],
   "source": [
    "for i in things:\n",
    "    print(i.capitalize())\n",
    "things\n",
    "#Capitalize() will not update the list original values."
   ]
  },
  {
   "cell_type": "markdown",
   "id": "7fb95ca2-9184-4633-8694-34293847c811",
   "metadata": {},
   "source": [
    "#6. Make a surprise list with the elements \"Groucho,\" \"Chico,\" and \"Harpo.\""
   ]
  },
  {
   "cell_type": "code",
   "execution_count": 6,
   "id": "52cc7f6f-2849-4d7f-9c9a-7f23aca27568",
   "metadata": {},
   "outputs": [
    {
     "data": {
      "text/plain": [
       "['Groucho', 'Chico', 'Harpo']"
      ]
     },
     "execution_count": 6,
     "metadata": {},
     "output_type": "execute_result"
    }
   ],
   "source": [
    "surprise_list = [\"Groucho\", \"Chico\", \"Harpo\"]\n",
    "surprise_list\n",
    "     "
   ]
  },
  {
   "cell_type": "markdown",
   "id": "747d8a03-34ce-4f7c-b1cd-ca2650a493c1",
   "metadata": {},
   "source": [
    "#7. Lowercase the last element of the surprise list, reverse it, and then capitalize it."
   ]
  },
  {
   "cell_type": "code",
   "execution_count": 7,
   "id": "4f06e498-ec8f-4b74-83ff-7d9389ec53ca",
   "metadata": {},
   "outputs": [
    {
     "data": {
      "text/plain": [
       "'harpo'"
      ]
     },
     "execution_count": 7,
     "metadata": {},
     "output_type": "execute_result"
    }
   ],
   "source": [
    "surprise_list[-1].lower()"
   ]
  },
  {
   "cell_type": "code",
   "execution_count": 9,
   "id": "85750be9-c24b-48cf-a0be-46fcfc1fe65e",
   "metadata": {},
   "outputs": [
    {
     "data": {
      "text/plain": [
       "'opraH'"
      ]
     },
     "execution_count": 9,
     "metadata": {},
     "output_type": "execute_result"
    }
   ],
   "source": [
    "surprise_list[-1][::-1]"
   ]
  },
  {
   "cell_type": "code",
   "execution_count": 10,
   "id": "c859d995-09b4-4d44-8b66-e51cc2197f89",
   "metadata": {},
   "outputs": [
    {
     "data": {
      "text/plain": [
       "'OPRAH'"
      ]
     },
     "execution_count": 10,
     "metadata": {},
     "output_type": "execute_result"
    }
   ],
   "source": [
    "surprise_list[-1][::-1].upper()"
   ]
  },
  {
   "cell_type": "markdown",
   "id": "4c982552-ac59-468d-b54d-6b1d83a01fbf",
   "metadata": {},
   "source": [
    "#8. Make an English-to-French dictionary called e2f and print it. \n",
    "Here are your starter words: dog is chien, cat is chat, and walrus is morse."
   ]
  },
  {
   "cell_type": "code",
   "execution_count": 11,
   "id": "28dd296c-b69d-4926-b575-96b3502dca8e",
   "metadata": {},
   "outputs": [],
   "source": [
    "e2f = {'dog':'chien','cat':'chat','walrus':'morse'}"
   ]
  },
  {
   "cell_type": "markdown",
   "id": "20cea5be-fe63-46e6-be87-812e03b2287e",
   "metadata": {},
   "source": [
    "#9. Write the French word for walrus in your three-word dictionary e2f."
   ]
  },
  {
   "cell_type": "code",
   "execution_count": 12,
   "id": "1048b700-afe7-44da-969c-f34347add575",
   "metadata": {},
   "outputs": [
    {
     "data": {
      "text/plain": [
       "'morse'"
      ]
     },
     "execution_count": 12,
     "metadata": {},
     "output_type": "execute_result"
    }
   ],
   "source": [
    "e2f['walrus']"
   ]
  },
  {
   "cell_type": "markdown",
   "id": "50cdf630-285d-49e2-ae47-756b8fa57f6a",
   "metadata": {},
   "source": [
    "#10. Make a French-to-English dictionary called f2e from e2f. Use the items method."
   ]
  },
  {
   "cell_type": "code",
   "execution_count": 14,
   "id": "a4f6e144-03a9-4374-8dd7-e10310addaaa",
   "metadata": {},
   "outputs": [
    {
     "data": {
      "text/plain": [
       "{'chien': 'dog', 'chat': 'cat', 'morse': 'walrus'}"
      ]
     },
     "execution_count": 14,
     "metadata": {},
     "output_type": "execute_result"
    }
   ],
   "source": [
    "f2e = dict((key,value) for value,key in e2f.items())\n",
    "f2e"
   ]
  },
  {
   "cell_type": "markdown",
   "id": "f0fb9912-6c94-4ee7-973a-64da537c2256",
   "metadata": {},
   "source": [
    "#11. Print the English version of the French word chien using f2e."
   ]
  },
  {
   "cell_type": "code",
   "execution_count": 16,
   "id": "d1a79a1a-f6e6-4416-9ddc-11d9b3cf685f",
   "metadata": {},
   "outputs": [
    {
     "data": {
      "text/plain": [
       "'dog'"
      ]
     },
     "execution_count": 16,
     "metadata": {},
     "output_type": "execute_result"
    }
   ],
   "source": [
    "f2e['chien']"
   ]
  },
  {
   "cell_type": "markdown",
   "id": "ab2ae66f-6d24-4029-96a8-b26e24af27bc",
   "metadata": {},
   "source": [
    "#12. Make and print a set of English words from the keys in e2f."
   ]
  },
  {
   "cell_type": "code",
   "execution_count": 18,
   "id": "a5798d87-d3e0-4645-814b-0c5c1e68ce12",
   "metadata": {},
   "outputs": [
    {
     "data": {
      "text/plain": [
       "dict_keys(['dog', 'cat', 'walrus'])"
      ]
     },
     "execution_count": 18,
     "metadata": {},
     "output_type": "execute_result"
    }
   ],
   "source": [
    "e2f.keys()"
   ]
  },
  {
   "cell_type": "markdown",
   "id": "2b38690a-a719-4742-9116-a3dd3f1f0178",
   "metadata": {},
   "source": [
    "#13. Make a multilevel dictionary called life. Use these strings for the topmost keys: \n",
    "    'animals', 'plants', and 'other'. Make the 'animals' key refer to another dictionary with the\n",
    "    keys 'cats', 'octopi', and 'emus'. Make the 'cats' key refer to a list of strings with \n",
    "    the values 'Henri', 'Grumpy', and 'Lucy'. Make all the other keys refer to empty dictionaries.\n"
   ]
  },
  {
   "cell_type": "code",
   "execution_count": 19,
   "id": "6cfd7c79-5038-4937-818b-1ebaa4d98c63",
   "metadata": {},
   "outputs": [
    {
     "data": {
      "text/plain": [
       "{'animals': {'cat': ['Henri', 'Grumpy', 'Lucy'], 'octopi': '', 'emus': ''},\n",
       " 'plants': '',\n",
       " 'other': ''}"
      ]
     },
     "execution_count": 19,
     "metadata": {},
     "output_type": "execute_result"
    }
   ],
   "source": [
    "life ={'animals':{'cat':['Henri', 'Grumpy', 'Lucy'], 'octopi':'', 'emus':''},\n",
    "       'plants' :'',\n",
    "       'other' :'' }\n",
    "life"
   ]
  },
  {
   "cell_type": "markdown",
   "id": "7851f243-9760-466c-9bc2-f069c58a9a1d",
   "metadata": {},
   "source": [
    "#14. Print the top-level keys of life."
   ]
  },
  {
   "cell_type": "code",
   "execution_count": 20,
   "id": "6b9e947e-f6fe-4a48-8369-5e222656c5eb",
   "metadata": {},
   "outputs": [
    {
     "data": {
      "text/plain": [
       "dict_keys(['animals', 'plants', 'other'])"
      ]
     },
     "execution_count": 20,
     "metadata": {},
     "output_type": "execute_result"
    }
   ],
   "source": [
    "life.keys()"
   ]
  },
  {
   "cell_type": "markdown",
   "id": "e5cd3111-4cf5-4c46-a9de-8e6da23a1503",
   "metadata": {},
   "source": [
    "#15. Print the keys for life['animals']."
   ]
  },
  {
   "cell_type": "code",
   "execution_count": 21,
   "id": "269cd970-b287-4a63-a351-1389b3b57a31",
   "metadata": {},
   "outputs": [
    {
     "data": {
      "text/plain": [
       "dict_keys(['cat', 'octopi', 'emus'])"
      ]
     },
     "execution_count": 21,
     "metadata": {},
     "output_type": "execute_result"
    }
   ],
   "source": [
    "life['animals'].keys()"
   ]
  },
  {
   "cell_type": "markdown",
   "id": "b52ad9a3-af9b-44fd-8303-c9fd72f64b2c",
   "metadata": {},
   "source": [
    "#16. Print the values for life['animals']['cats']"
   ]
  },
  {
   "cell_type": "code",
   "execution_count": 22,
   "id": "01d2dcd7-bc18-4833-814a-56b1fe87ebca",
   "metadata": {},
   "outputs": [
    {
     "data": {
      "text/plain": [
       "['Henri', 'Grumpy', 'Lucy']"
      ]
     },
     "execution_count": 22,
     "metadata": {},
     "output_type": "execute_result"
    }
   ],
   "source": [
    "life['animals']['cat']"
   ]
  }
 ],
 "metadata": {
  "kernelspec": {
   "display_name": "Python 3 (ipykernel)",
   "language": "python",
   "name": "python3"
  },
  "language_info": {
   "codemirror_mode": {
    "name": "ipython",
    "version": 3
   },
   "file_extension": ".py",
   "mimetype": "text/x-python",
   "name": "python",
   "nbconvert_exporter": "python",
   "pygments_lexer": "ipython3",
   "version": "3.10.6"
  }
 },
 "nbformat": 4,
 "nbformat_minor": 5
}
