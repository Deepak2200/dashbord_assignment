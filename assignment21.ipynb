{
 "cells": [
  {
   "cell_type": "markdown",
   "id": "b4687c45-7a0e-4fdc-af14-40b39c715a5b",
   "metadata": {},
   "source": [
    "#1 Add the current date to the text file today.txt as a string."
   ]
  },
  {
   "cell_type": "code",
   "execution_count": 1,
   "id": "6e307150-6cc6-47ae-91df-7542b03ac751",
   "metadata": {},
   "outputs": [
    {
     "data": {
      "text/plain": [
       "'2023-05-03'"
      ]
     },
     "execution_count": 1,
     "metadata": {},
     "output_type": "execute_result"
    }
   ],
   "source": [
    "import datetime\n",
    "from datetime import date\n",
    "now = date.today()\n",
    "cur_date = now.isoformat()\n",
    "cur_date"
   ]
  },
  {
   "cell_type": "code",
   "execution_count": 2,
   "id": "c407660e-6c74-40cb-b477-6d6a00a8a212",
   "metadata": {},
   "outputs": [],
   "source": [
    "with open('today.txt','w') as file:\n",
    "    file.write(cur_date)"
   ]
  },
  {
   "cell_type": "markdown",
   "id": "e545e680-335a-4838-a554-8e45a0125d16",
   "metadata": {},
   "source": [
    "#2. Read the text file today.txt into the string today_string"
   ]
  },
  {
   "cell_type": "code",
   "execution_count": 3,
   "id": "ebe12ecf-173a-4bb0-9adf-742647b2673c",
   "metadata": {},
   "outputs": [
    {
     "data": {
      "text/plain": [
       "'2023-05-03'"
      ]
     },
     "execution_count": 3,
     "metadata": {},
     "output_type": "execute_result"
    }
   ],
   "source": [
    "with open('today.txt','r') as file:\n",
    "    today_string = file.read()\n",
    "today_string\n",
    "     "
   ]
  },
  {
   "cell_type": "markdown",
   "id": "518d0fab-0e82-4aed-abd3-0abb150e686b",
   "metadata": {},
   "source": [
    "#3. Parse the date from today_string."
   ]
  },
  {
   "cell_type": "code",
   "execution_count": 4,
   "id": "4165c2fd-8b82-4eda-9245-5035d59413a3",
   "metadata": {},
   "outputs": [
    {
     "data": {
      "text/plain": [
       "datetime.datetime(2023, 5, 3, 0, 0)"
      ]
     },
     "execution_count": 4,
     "metadata": {},
     "output_type": "execute_result"
    }
   ],
   "source": [
    "from datetime import datetime\n",
    "format = '%Y-%m-%d'\n",
    "datetime.strptime(today_string,format)"
   ]
  },
  {
   "cell_type": "markdown",
   "id": "5c736b11-30dd-4b16-8504-d2e0d5c043ba",
   "metadata": {},
   "source": [
    "#4. List the files in your current directory"
   ]
  },
  {
   "cell_type": "code",
   "execution_count": 5,
   "id": "373de514-8f5e-417a-b57a-975869204fa7",
   "metadata": {},
   "outputs": [
    {
     "data": {
      "text/plain": [
       "['assignment15.ipynb',\n",
       " 'README.md',\n",
       " 'test.txt',\n",
       " 'assignment17.ipynb',\n",
       " 'assisgnment13.ipynb',\n",
       " 'sample-code.ipynb',\n",
       " 'assignment2.ipynb',\n",
       " 'ML_2.ipynb',\n",
       " 'assignment12.ipynb',\n",
       " '.git',\n",
       " 'assignment20.ipynb',\n",
       " 'assignment9.ipynb',\n",
       " 'assignment4.ipynb',\n",
       " 'assignment19.ipynb',\n",
       " 'assignment6.ipynb',\n",
       " 'assignment7.ipynb',\n",
       " 'assignment3.ipynb',\n",
       " 'Assingment10.ipynb',\n",
       " 'assignment11.ipynb',\n",
       " 'assignment8.ipynb',\n",
       " 'ML_3.ipynb',\n",
       " 'books.db',\n",
       " 'ML_1.ipynb',\n",
       " 'assignment16.ipynb',\n",
       " 'assignment18.ipynb',\n",
       " 'Untitled.ipynb',\n",
       " '.ipynb_checkpoints',\n",
       " 'today.txt',\n",
       " 'assignment5.ipynb',\n",
       " 'assignment14.ipynb',\n",
       " 'books.csv']"
      ]
     },
     "execution_count": 5,
     "metadata": {},
     "output_type": "execute_result"
    }
   ],
   "source": [
    "import os\n",
    "os.listdir('.')"
   ]
  },
  {
   "cell_type": "markdown",
   "id": "9dce9a07-2905-43e5-ab74-6d020d2c9aa4",
   "metadata": {},
   "source": [
    "#5. Use multiprocessing to create three separate processes. Make each one wait a random number of seconds between one and five, print the current time, and then exit."
   ]
  },
  {
   "cell_type": "code",
   "execution_count": 6,
   "id": "f6f72bb0-d4e4-475f-86ac-830e767d27e6",
   "metadata": {},
   "outputs": [
    {
     "name": "stdout",
     "output_type": "stream",
     "text": [
      "wait 0.14772033213239644 seconds, time is 2023-05-03 05:38:13.457165\n",
      "wait 0.8156688419913415 seconds, time is 2023-05-03 05:38:14.129095\n",
      "wait 0.8890296680463305 seconds, time is 2023-05-03 05:38:14.205610\n"
     ]
    }
   ],
   "source": [
    "import multiprocessing\n",
    "\n",
    "def printsec(seconds):\n",
    "    from datetime import datetime\n",
    "    from time import sleep\n",
    "    sleep(seconds)\n",
    "    print('wait', seconds, 'seconds, time is', datetime.utcnow())\n",
    "    \n",
    "if __name__ == '__main__':\n",
    "    import random    \n",
    "    for n in range(3):\n",
    "        seconds = random.random()\n",
    "        proc = multiprocessing.Process(target=printsec, args=(seconds,))\n",
    "        proc.start()"
   ]
  },
  {
   "cell_type": "markdown",
   "id": "72606807-3746-4481-8d52-1ba2591922f8",
   "metadata": {},
   "source": [
    "#6. Create a date object of your day of birth"
   ]
  },
  {
   "cell_type": "code",
   "execution_count": 8,
   "id": "e115e361-2d11-4306-b401-d7296e131117",
   "metadata": {},
   "outputs": [
    {
     "data": {
      "text/plain": [
       "datetime.date(2000, 7, 15)"
      ]
     },
     "execution_count": 8,
     "metadata": {},
     "output_type": "execute_result"
    }
   ],
   "source": [
    "my_dob = date(2000,7,15)\n",
    "my_dob"
   ]
  },
  {
   "cell_type": "markdown",
   "id": "ebdf077c-1ca7-4d18-bd44-dcc47423420a",
   "metadata": {},
   "source": [
    "#7. What day of the week was your day of birth?"
   ]
  },
  {
   "cell_type": "code",
   "execution_count": 9,
   "id": "455fb4e8-5d67-4fac-acfc-5350995583b9",
   "metadata": {},
   "outputs": [
    {
     "data": {
      "text/plain": [
       "5"
      ]
     },
     "execution_count": 9,
     "metadata": {},
     "output_type": "execute_result"
    }
   ],
   "source": [
    "my_dob.weekday()"
   ]
  },
  {
   "cell_type": "markdown",
   "id": "2d0d8932-814a-4f89-b579-fc12c343b10d",
   "metadata": {},
   "source": [
    "#8. When will you be (or when were you) 10,000 days old?"
   ]
  },
  {
   "cell_type": "code",
   "execution_count": 11,
   "id": "2df15e50-332f-4706-bcf5-478fcd542854",
   "metadata": {},
   "outputs": [
    {
     "data": {
      "text/plain": [
       "datetime.date(2027, 12, 1)"
      ]
     },
     "execution_count": 11,
     "metadata": {},
     "output_type": "execute_result"
    }
   ],
   "source": [
    "from datetime import timedelta\n",
    "day10000 = my_dob + timedelta(days=10000)\n",
    "day10000"
   ]
  },
  {
   "cell_type": "code",
   "execution_count": null,
   "id": "4a3e081c-27ad-4218-9876-1e86226fb11c",
   "metadata": {},
   "outputs": [],
   "source": []
  }
 ],
 "metadata": {
  "kernelspec": {
   "display_name": "Python 3 (ipykernel)",
   "language": "python",
   "name": "python3"
  },
  "language_info": {
   "codemirror_mode": {
    "name": "ipython",
    "version": 3
   },
   "file_extension": ".py",
   "mimetype": "text/x-python",
   "name": "python",
   "nbconvert_exporter": "python",
   "pygments_lexer": "ipython3",
   "version": "3.10.6"
  }
 },
 "nbformat": 4,
 "nbformat_minor": 5
}
